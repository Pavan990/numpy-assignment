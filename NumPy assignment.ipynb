{
 "cells": [
  {
   "cell_type": "markdown",
   "id": "b6c30c16",
   "metadata": {},
   "source": [
    "# Create a null vector of size 10 but the fifth value which is 1"
   ]
  },
  {
   "cell_type": "code",
   "execution_count": 4,
   "id": "81816ba5",
   "metadata": {},
   "outputs": [
    {
     "data": {
      "text/plain": [
       "array([0., 0., 0., 0., 1., 0., 0., 0., 0., 0.])"
      ]
     },
     "execution_count": 4,
     "metadata": {},
     "output_type": "execute_result"
    }
   ],
   "source": [
    "import numpy as np\n",
    "x=np.zeros(10)\n",
    "x[4]=1\n",
    "x"
   ]
  },
  {
   "cell_type": "markdown",
   "id": "dc62a050",
   "metadata": {},
   "source": [
    "# Create a vector with values ranging from 10 to 49."
   ]
  },
  {
   "cell_type": "code",
   "execution_count": 7,
   "id": "74c17d31",
   "metadata": {},
   "outputs": [
    {
     "name": "stdout",
     "output_type": "stream",
     "text": [
      "Original vector:\n",
      "[10 11 12 13 14 15 16 17 18 19 20 21 22 23 24 25 26 27 28 29 30 31 32 33\n",
      " 34 35 36 37 38 39 40 41 42 43 44 45 46 47 48]\n"
     ]
    }
   ],
   "source": [
    "import numpy as np\n",
    "vector = np.arange(10,49)\n",
    "print(\"Original vector:\")\n",
    "print(vector)"
   ]
  },
  {
   "cell_type": "markdown",
   "id": "32479eb1",
   "metadata": {},
   "source": [
    "# Create a 3x3 matrix with values ranging from 0 to 8"
   ]
  },
  {
   "cell_type": "code",
   "execution_count": 10,
   "id": "26c58235",
   "metadata": {},
   "outputs": [
    {
     "name": "stdout",
     "output_type": "stream",
     "text": [
      "[[0 1 2]\n",
      " [3 4 5]\n",
      " [6 7 8]]\n"
     ]
    }
   ],
   "source": [
    "import numpy as np\n",
    "x =  np.arange(0,9).reshape(3,3)\n",
    "print(x)"
   ]
  },
  {
   "cell_type": "markdown",
   "id": "0d63f99b",
   "metadata": {},
   "source": [
    "# Find indices of non-zero elements from [1,2,0,0,4,0]"
   ]
  },
  {
   "cell_type": "code",
   "execution_count": 12,
   "id": "64d727cb",
   "metadata": {},
   "outputs": [
    {
     "data": {
      "text/plain": [
       "array([1, 2, 4])"
      ]
     },
     "execution_count": 12,
     "metadata": {},
     "output_type": "execute_result"
    }
   ],
   "source": [
    "q=np.array([1,2,0,0,4,0])\n",
    "q[q>0]"
   ]
  },
  {
   "cell_type": "markdown",
   "id": "04b0174f",
   "metadata": {},
   "source": [
    "# Create a 10x10 array with random values and find the minimum and maximum values"
   ]
  },
  {
   "cell_type": "code",
   "execution_count": 28,
   "id": "23ba60a9",
   "metadata": {},
   "outputs": [
    {
     "name": "stdout",
     "output_type": "stream",
     "text": [
      "[[44 56  7 82 27  1 62 11 23 61]\n",
      " [62 14 44 79 47 85 97 84 19 18]\n",
      " [49 51  3 33 30 23  7  3 18 11]\n",
      " [35 77 37  8 83  7  1 55 88 40]\n",
      " [28 13 89 71 87 87 72 79 49 96]\n",
      " [91 75 51 83 63 58 19 22 52 11]\n",
      " [56 57 95  5 20 49 65  6 19 42]\n",
      " [72 69 48 22 21 40 90 63  4  7]\n",
      " [62 57 53 92 43 18 16 86 35 80]\n",
      " [25 13 78 74 33 57 34 81 84 77]]\n",
      "minimum value is: 1\n",
      "maximum value is: 97\n"
     ]
    }
   ],
   "source": [
    "z=np.random.randint(1,100,(10,10))\n",
    "print(z)\n",
    "zmin,zmax=z.min(),z.max()\n",
    "print('minimum value is:',zmin)\n",
    "print('maximum value is:',zmax)"
   ]
  },
  {
   "cell_type": "markdown",
   "id": "8f5c6c4c",
   "metadata": {},
   "source": [
    "# Create a random vector of size 30 and find the mean value."
   ]
  },
  {
   "cell_type": "code",
   "execution_count": 32,
   "id": "b93e6c0a",
   "metadata": {},
   "outputs": [
    {
     "name": "stdout",
     "output_type": "stream",
     "text": [
      "Original array:\n",
      "[0.2904222  0.66577786 0.92701723 0.81209221 0.73841195 0.3739962\n",
      " 0.43675804 0.0176491  0.42713253 0.75739061 0.98887715 0.03951632\n",
      " 0.04397703 0.48628593 0.46388926 0.37900773 0.93767006 0.86136057\n",
      " 0.42105697 0.56263991 0.7382116  0.31836608 0.87742241 0.8950367\n",
      " 0.3893806  0.473882   0.86452225 0.40635523 0.33973459 0.64009101]\n",
      "mean value is: 0.5524643775464247\n"
     ]
    }
   ],
   "source": [
    "import numpy as np\n",
    "vector = np.random.random(30)\n",
    "print(\"Original array:\")\n",
    "print(vector)\n",
    "print('mean value is:',np.mean(vector))\n"
   ]
  },
  {
   "cell_type": "code",
   "execution_count": null,
   "id": "651da6eb",
   "metadata": {},
   "outputs": [],
   "source": []
  }
 ],
 "metadata": {
  "kernelspec": {
   "display_name": "Python 3",
   "language": "python",
   "name": "python3"
  },
  "language_info": {
   "codemirror_mode": {
    "name": "ipython",
    "version": 3
   },
   "file_extension": ".py",
   "mimetype": "text/x-python",
   "name": "python",
   "nbconvert_exporter": "python",
   "pygments_lexer": "ipython3",
   "version": "3.8.8"
  }
 },
 "nbformat": 4,
 "nbformat_minor": 5
}
